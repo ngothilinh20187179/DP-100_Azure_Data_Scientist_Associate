{
 "cells": [
  {
   "cell_type": "code",
   "execution_count": null,
   "metadata": {},
   "outputs": [],
   "source": [
    "# SDK 2\n",
    "# Explore datasset\n",
    "from azure.ai.ml import MLClient\n",
    "from azure.identity import DefaultAzureCredential\n",
    "import mltable\n",
    "\n",
    "# 1. Kết nối Workspace (điền đủ ttin authen để code chạy đc cục bộ)\n",
    "# ml_client = MLClient.from_config(credential=DefaultAzureCredential())\n",
    "ml_client = MLClient(\n",
    "    credential = DefaultAzureCredential(),\n",
    "    subscription_id = \"your azure subscription_id\",\n",
    "    resource_group_name = \"your azure resource_group_name\",\n",
    "    workspace_name = \"your azure workspace_name\",\n",
    ")\n",
    "\n",
    "# 2. URI của Data Asset\n",
    "data_asset = ml_client.data.get(\"training-data\", version=\"1\")\n",
    "tbl = mltable.load(f'azureml:/{data_asset.id}')\n",
    "df = tbl.to_pandas_dataframe()\n",
    "df.head(5)"
   ]
  },
  {
   "cell_type": "code",
   "execution_count": null,
   "metadata": {},
   "outputs": [],
   "source": [
    "# Configure AutoML - classification job\n",
    "from azure.ai.ml.constants import AssetTypes\n",
    "from azure.ai.ml import Input, automl\n",
    "\n",
    "my_training_data_input = Input(type=AssetTypes.MLTABLE, path=\"azureml:training-data:1\")\n",
    "classification_job = automl.classification(\n",
    "    compute=\"ngothilinhau129152\",\n",
    "    experiment_name=\"auto-ml-class-diabetes\",\n",
    "    training_data=my_training_data_input,\n",
    "    target_column_name=\"Diabetic\",\n",
    "    primary_metric=\"accuracy\",\n",
    "    n_cross_validations=5,\n",
    "    enable_model_explainability=True\n",
    ")\n",
    "# set limits\n",
    "classification_job.set_limits(\n",
    "    timeout_minutes=60, \n",
    "    trial_timeout_minutes=20, \n",
    "    max_trials=5,\n",
    "    enable_early_termination=True,\n",
    ")\n",
    "\n",
    "# submit the AutoML job\n",
    "returned_job = ml_client.jobs.create_or_update(\n",
    "    classification_job\n",
    ") \n",
    "aml_url = returned_job.studio_url\n",
    "print(\"Monitor your job at\", aml_url)"
   ]
  }
 ],
 "metadata": {
  "kernelspec": {
   "display_name": "base",
   "language": "python",
   "name": "python3"
  },
  "language_info": {
   "name": "python",
   "version": "3.12.2"
  }
 },
 "nbformat": 4,
 "nbformat_minor": 2
}
