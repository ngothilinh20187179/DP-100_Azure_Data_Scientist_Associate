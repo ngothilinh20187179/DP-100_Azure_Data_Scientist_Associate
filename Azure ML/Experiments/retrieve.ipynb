{
 "cells": [
  {
   "cell_type": "code",
   "execution_count": null,
   "metadata": {},
   "outputs": [],
   "source": [
    "# SEARCH / LIST EXPERIMENTS\n",
    "import mlflow\n",
    "from mlflow.entities import ViewType\n",
    "\n",
    "experiments = mlflow.search_experiments()\n",
    "# experiments = mlflow.search_experiments(view_type=ViewType.ALL)\n",
    "\n",
    "for exp in experiments:\n",
    "    print(exp.name)"
   ]
  },
  {
   "cell_type": "code",
   "execution_count": null,
   "metadata": {},
   "outputs": [],
   "source": [
    "# get limit experiment\n",
    "experiments = mlflow.search_experiments(max_results=2)"
   ]
  },
  {
   "cell_type": "code",
   "execution_count": null,
   "metadata": {},
   "outputs": [],
   "source": [
    "# get experiment by name\n",
    "exp = mlflow.get_experiment_by_name(\"Default\")\n",
    "print(exp)"
   ]
  },
  {
   "cell_type": "code",
   "execution_count": null,
   "metadata": {},
   "outputs": [],
   "source": [
    "# List runs of experiment \"mlflow-experiment-diabetes\"\n",
    "exp = mlflow.get_experiment_by_name(\"mlflow-experiment-diabetes\")\n",
    "runs = mlflow.search_runs(exp.experiment_id, order_by=[\"start_time DESC\"], max_results=2)\n",
    "for index, run in runs.iterrows():\n",
    "    print(f\"\\nRun Index: {index}\")\n",
    "    print(f\"  Run ID: {run.run_id}\")"
   ]
  }
 ],
 "metadata": {
  "language_info": {
   "name": "python"
  }
 },
 "nbformat": 4,
 "nbformat_minor": 2
}
