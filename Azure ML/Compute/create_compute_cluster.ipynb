{
 "cells": [
  {
   "cell_type": "code",
   "execution_count": null,
   "metadata": {},
   "outputs": [],
   "source": [
    "from azure.ai.ml.entities import ComputeInstance\n",
    "from azure.ai.ml.entities import AmlCompute\n",
    "from azure.identity import DefaultAzureCredential\n",
    "from azure.ai.ml import MLClient\n",
    "\n",
    "ml_client = MLClient.from_config(credential=DefaultAzureCredential())\n",
    "\n",
    "# compute instance\n",
    "ci_basic = ComputeInstance(\n",
    "    name=\"ngothilinhau129153\", \n",
    "    size=\"Standard_E4ds_v4\"\n",
    ")\n",
    "ml_client.begin_create_or_update(ci_basic).result()\n",
    "\n",
    "\n",
    "# cluster\n",
    "cluster_basic = AmlCompute(\n",
    "    name=\"cpu-cluster\",\n",
    "    type=\"amlcompute\",\n",
    "    size=\"STANDARD_DS3_v2\",\n",
    "    location=\"westus\",\n",
    "    min_instances=0,\n",
    "    max_instances=2,\n",
    "    idle_time_before_scale_down=120,\n",
    "    tier=\"low_priority\",\n",
    ")\n",
    "ml_client.begin_create_or_update(cluster_basic).result()\n",
    "\n",
    "# use compute\n",
    "# from azure.ai.ml import command\n",
    "# job = command(\n",
    "#     code=\"./src\",\n",
    "#     command=\"python diabetes-training.py\",\n",
    "#     environment=\"AzureML-sklearn-0.24-ubuntu18.04-py37-cpu@latest\",\n",
    "#     compute=\"cpu-cluster\",\n",
    "#     display_name=\"train-with-cluster\",\n",
    "#     experiment_name=\"diabetes-training\"\n",
    "#     )\n",
    "# returned_job = ml_client.create_or_update(job)\n",
    "# aml_url = returned_job.studio_url\n",
    "# print(\"Monitor your job at\", aml_url)"
   ]
  }
 ],
 "metadata": {
  "language_info": {
   "name": "python"
  }
 },
 "nbformat": 4,
 "nbformat_minor": 2
}
