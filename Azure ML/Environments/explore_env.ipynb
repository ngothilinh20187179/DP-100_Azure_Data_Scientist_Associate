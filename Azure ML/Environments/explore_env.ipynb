{
 "cells": [
  {
   "cell_type": "code",
   "execution_count": null,
   "metadata": {},
   "outputs": [],
   "source": [
    "from azure.identity import DefaultAzureCredential\n",
    "from azure.ai.ml import MLClient\n",
    "\n",
    "ml_client = MLClient.from_config(credential=DefaultAzureCredential())\n",
    "\n",
    "# Liệt kê môi trường\n",
    "envs = ml_client.environments.list()\n",
    "for env in envs:\n",
    "    print(env.name)\n",
    "env = ml_client.environments.get(name=\"AzureML-sklearn-1.0-ubuntu20.04-py38-cpu\", version=\"1\")\n",
    "print(env)\n",
    "\n",
    "#  Sử dụng Curated Environment (Môi trường có sẵn/được quản lý)\n",
    "# VD Chỉ định môi trường khi run script\n",
    "from azure.ai.ml import command\n",
    "\n",
    "# configure job\n",
    "job = command(\n",
    "    code=\"./src\",\n",
    "    command=\"python train.py\",\n",
    "    environment=\"AzureML-sklearn-0.24-ubuntu18.04-py37-cpu@latest\",\n",
    "    compute=\"aml-cluster\",\n",
    "    display_name=\"train-with-curated-environment\",\n",
    "    experiment_name=\"train-with-curated-environment\"\n",
    ")\n",
    "\n",
    "# submit job\n",
    "returned_job = ml_client.create_or_update(job)"
   ]
  },
  {
   "cell_type": "code",
   "execution_count": null,
   "metadata": {},
   "outputs": [],
   "source": [
    "# Tạo Custom Environment từ Docker Image (có sẵn)\n",
    "# Tạo Custom Environment từ Dockerfile\n",
    "# Custom Environment từ conda.yml hoặc requirements.txt"
   ]
  },
  {
   "cell_type": "code",
   "execution_count": null,
   "metadata": {},
   "outputs": [],
   "source": [
    "# create an environment from a Docker image\n",
    "from azure.ai.ml.entities import Environment\n",
    "\n",
    "env_docker_image = Environment(\n",
    "    image=\"pytorch/pytorch:latest\",\n",
    "    name=\"public-docker-image-example\",\n",
    "    description=\"Environment created from a public Docker image.\",\n",
    ")\n",
    "ml_client.environments.create_or_update(env_docker_image)"
   ]
  }
 ],
 "metadata": {
  "language_info": {
   "name": "python"
  }
 },
 "nbformat": 4,
 "nbformat_minor": 2
}
