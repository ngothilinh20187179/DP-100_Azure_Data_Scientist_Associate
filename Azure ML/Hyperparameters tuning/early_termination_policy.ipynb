{
 "cells": [
  {
   "cell_type": "code",
   "execution_count": null,
   "metadata": {},
   "outputs": [],
   "source": [
    "from azure.ai.ml.sweep import BanditPolicy\n",
    "\n",
    "sweep_job.early_termination = BanditPolicy(\n",
    "    slack_amount = 0.2, \n",
    "    delay_evaluation = 5, \n",
    "    evaluation_interval = 1\n",
    ")"
   ]
  },
  {
   "cell_type": "code",
   "execution_count": null,
   "metadata": {},
   "outputs": [],
   "source": [
    "from azure.ai.ml.sweep import MedianStoppingPolicy\n",
    "\n",
    "sweep_job.early_termination = MedianStoppingPolicy(\n",
    "    delay_evaluation = 5, \n",
    "    evaluation_interval = 1\n",
    ")"
   ]
  },
  {
   "cell_type": "code",
   "execution_count": null,
   "metadata": {},
   "outputs": [],
   "source": [
    "from azure.ai.ml.sweep import TruncationSelectionPolicy\n",
    "\n",
    "sweep_job.early_termination = TruncationSelectionPolicy(\n",
    "    evaluation_interval=1, \n",
    "    truncation_percentage=20, \n",
    "    delay_evaluation=4 \n",
    ")"
   ]
  }
 ],
 "metadata": {
  "language_info": {
   "name": "python"
  }
 },
 "nbformat": 4,
 "nbformat_minor": 2
}
