{
 "cells": [
  {
   "cell_type": "code",
   "execution_count": null,
   "metadata": {},
   "outputs": [],
   "source": [
    "# TRACKING \n",
    "from azure.ai.ml import MLClient\n",
    "from azure.identity import DefaultAzureCredential\n",
    "import mltable\n",
    "from sklearn.model_selection import train_test_split\n",
    "\n",
    "# 1. Kết nối Workspace\n",
    "ml_client = MLClient(\n",
    "    credential = DefaultAzureCredential(),\n",
    "    subscription_id = \"your azure subscription_id\",\n",
    "    resource_group_name = \"your azure resource_group_name\",\n",
    "    workspace_name = \"your azure workspace_name\",\n",
    ")\n",
    "\n",
    "# 2. Access Data \n",
    "data_asset = ml_client.data.get(\"training-data\", version=\"1\")\n",
    "tbl = mltable.load(f'azureml:/{data_asset.id}')\n",
    "df = tbl.to_pandas_dataframe()\n",
    "\n",
    "# 3. Splitting data\n",
    "X, y = df[['Pregnancies','PlasmaGlucose','DiastolicBloodPressure','TricepsThickness','SerumInsulin','BMI','DiabetesPedigree','Age']].values, df['Diabetic'].values\n",
    "X_train, X_test, y_train, y_test = train_test_split(X, y, test_size=0.30, random_state=0)"
   ]
  },
  {
   "cell_type": "code",
   "execution_count": null,
   "metadata": {},
   "outputs": [],
   "source": [
    "# Create an MLflow experiment\n",
    "import mlflow\n",
    "experiment_name = \"mlflow-experiment-diabetes\"\n",
    "mlflow.set_experiment(experiment_name)"
   ]
  },
  {
   "cell_type": "code",
   "execution_count": null,
   "metadata": {},
   "outputs": [],
   "source": [
    "# sử dụng mlflow tracking và log dữ liệu\n",
    "from sklearn.linear_model import LogisticRegression\n",
    "import numpy as np\n",
    "\n",
    "with mlflow.start_run():\n",
    "    # 1. Kích hoạt autolog cho scikit-learn\n",
    "    mlflow.sklearn.autolog()\n",
    "    \n",
    "    # Sau khi train model bên dưới, các log sẽ tự động hiện ra\n",
    "    model = LogisticRegression(C=1/0.1, solver=\"liblinear\").fit(X_train, y_train)\n",
    "    y_hat = model.predict(X_test)\n",
    "    \n",
    "    # 2. Tắt autolog sau khi train, để nó ko ghi đè các log ở code bên dưới\n",
    "    mlflow.sklearn.autolog(disable=True) \n",
    "    \n",
    "    # \n",
    "    model = LogisticRegression(C=1/0.01, solver=\"liblinear\").fit(X_train, y_train)\n",
    "\n",
    "    y_hat = model.predict(X_test)\n",
    "    acc = np.average(y_hat == y_test)\n",
    "\n",
    "    mlflow.log_param(\"regularization_rate\", 0.1)\n",
    "    mlflow.log_metric(\"Accuracy\", acc)\n"
   ]
  },
  {
   "cell_type": "code",
   "execution_count": null,
   "metadata": {},
   "outputs": [],
   "source": [
    "# log_artifact\n",
    "\n",
    "from sklearn.tree import DecisionTreeClassifier\n",
    "from sklearn.metrics import roc_curve\n",
    "import matplotlib.pyplot as plt\n",
    "import numpy as np\n",
    "\n",
    "with mlflow.start_run():\n",
    "    model = DecisionTreeClassifier().fit(X_train, y_train)\n",
    "\n",
    "    y_hat = model.predict(X_test)\n",
    "    acc = np.average(y_hat == y_test)\n",
    "\n",
    "    # plot ROC curve\n",
    "    y_scores = model.predict_proba(X_test)\n",
    "\n",
    "    fpr, tpr, thresholds = roc_curve(y_test, y_scores[:,1])\n",
    "    fig = plt.figure(figsize=(6, 4))\n",
    "    # Plot the diagonal 50% line\n",
    "    plt.plot([0, 1], [0, 1], 'k--')\n",
    "    # Plot the FPR and TPR achieved by our model\n",
    "    plt.plot(fpr, tpr)\n",
    "    plt.xlabel('False Positive Rate')\n",
    "    plt.ylabel('True Positive Rate')\n",
    "    plt.title('ROC Curve')\n",
    "    plt.savefig(\"ROC-Curve.png\")\n",
    "\n",
    "    mlflow.log_param(\"estimator\", \"DecisionTreeClassifier\")\n",
    "    mlflow.log_metric(\"Accuracy\", acc)\n",
    "    mlflow.log_artifact(\"ROC-Curve.png\")"
   ]
  }
 ],
 "metadata": {
  "language_info": {
   "name": "python"
  }
 },
 "nbformat": 4,
 "nbformat_minor": 2
}
